{
 "cells": [
  {
   "cell_type": "code",
   "execution_count": 1,
   "id": "c22746f8-fbd0-40a5-9530-2b8fcd3b7981",
   "metadata": {},
   "outputs": [],
   "source": [
    "import pandas as pd\n",
    "import numpy as np\n",
    "import pickle\n",
    "from sklearn.model_selection import train_test_split\n",
    "from sklearn.preprocessing import LabelEncoder, StandardScaler\n",
    "from sklearn.ensemble import RandomForestClassifier\n",
    "from sklearn.metrics import accuracy_score"
   ]
  },
  {
   "cell_type": "code",
   "execution_count": 3,
   "id": "a039e8fe-94c2-4018-a980-06ec5b73adcb",
   "metadata": {},
   "outputs": [],
   "source": [
    "# Load dataset\n",
    "df = pd.read_csv(\"Fish.csv\")"
   ]
  },
  {
   "cell_type": "code",
   "execution_count": 5,
   "id": "395d5626-f19b-4c37-84e2-d3d51087b744",
   "metadata": {},
   "outputs": [],
   "source": [
    "# Preprocessing\n",
    "X = df.drop(columns=['Species'])\n",
    "y = df['Species']"
   ]
  },
  {
   "cell_type": "code",
   "execution_count": 7,
   "id": "fd81d4c1-9592-47aa-b35d-e6ac3ff2a3c5",
   "metadata": {},
   "outputs": [],
   "source": [
    "# Encode target variable\n",
    "le = LabelEncoder()\n",
    "y = le.fit_transform(y)"
   ]
  },
  {
   "cell_type": "code",
   "execution_count": 9,
   "id": "3c177e24-9592-4e17-bf88-cbb3cd9e0aa1",
   "metadata": {},
   "outputs": [],
   "source": [
    "# Save Label Encoder\n",
    "with open('label_encoder.pkl', 'wb') as f:\n",
    "    pickle.dump(le, f)"
   ]
  },
  {
   "cell_type": "code",
   "execution_count": 11,
   "id": "29e61fc5-0d60-415e-b73f-9dbca7f07507",
   "metadata": {},
   "outputs": [],
   "source": [
    "# Standardize features\n",
    "scaler = StandardScaler()\n",
    "X = scaler.fit_transform(X)"
   ]
  },
  {
   "cell_type": "code",
   "execution_count": null,
   "id": "b0ca221f-439f-42a8-b456-4504b0d9ab6d",
   "metadata": {},
   "outputs": [],
   "source": [
    "# Save Scaler\n",
    "with open('scaler.pkl', 'wb') as f:\n",
    "    pickle.dump(scaler, f)"
   ]
  },
  {
   "cell_type": "code",
   "execution_count": null,
   "id": "87a51527-15c5-44ed-9c3c-8a8b192ee006",
   "metadata": {},
   "outputs": [],
   "source": []
  }
 ],
 "metadata": {
  "kernelspec": {
   "display_name": "Python 3 (ipykernel)",
   "language": "python",
   "name": "python3"
  },
  "language_info": {
   "codemirror_mode": {
    "name": "ipython",
    "version": 3
   },
   "file_extension": ".py",
   "mimetype": "text/x-python",
   "name": "python",
   "nbconvert_exporter": "python",
   "pygments_lexer": "ipython3",
   "version": "3.12.4"
  }
 },
 "nbformat": 4,
 "nbformat_minor": 5
}
